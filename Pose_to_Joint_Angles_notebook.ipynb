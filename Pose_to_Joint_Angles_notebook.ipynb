{
 "cells": [
  {
   "cell_type": "code",
   "execution_count": 1,
   "metadata": {},
   "outputs": [],
   "source": [
    "\n",
    "# \"\"\"\n",
    "# From a directory of multiple files of a particular format, retain only n files!\n",
    "\n",
    "# \"\"\"\n",
    "\n",
    "\n",
    "# import os\n",
    "# import random\n",
    "# from pathlib import Path\n",
    "\n",
    "# cwd = Path.cwd()\n",
    "\n",
    "# random_files = random.sample([file for file in cwd.iterdir() if \".PNG\" in str(file)], k=100)  \n",
    "# # choose k numbers without replacement from given population, use random.choices for with replacement\n",
    "\n",
    "# random_files = set(random_files)   # set for easy look-up later\n",
    "\n",
    "# for index, file in enumerate(cwd.iterdir()):\n",
    "#     if file not in random_files and \".PNG\" in str(file):  #only remove those files not in random and those are .PNG\n",
    "#         Path.unlink(file)    \n",
    "\n",
    "# print(len([f for f in cwd.iterdir()]))  #checking folder size later!"
   ]
  },
  {
   "cell_type": "code",
   "execution_count": 48,
   "metadata": {},
   "outputs": [],
   "source": [
    "\"\"\"\n",
    "Parsing a xml file (possibly CV2 output) using Python\n",
    "\n",
    "\"\"\"\n",
    "\n",
    "def convert_xml_to_dict(xml_file =\"sim-PSM1-2016Feb05T175836.xml\"):\n",
    "    \"\"\"Convert given xml to structure as follows\n",
    "        \n",
    "    \"\"\"\n",
    "    import numpy as np\n",
    "    import xml.etree.ElementTree as ET\n",
    "    from collections import defaultdict\n",
    "\n",
    "    tree = ET.parse(xml_file)\n",
    "    root = tree.getroot()\n",
    "    \n",
    "    root_dict = dict()\n",
    "    \n",
    "    root_dict[\"framecount\"] = int(root[0].text)\n",
    "    \n",
    "    for part in root[1:4]: # 'J4_poses', 'J5_poses', 'bHe_poses'\n",
    "        \n",
    "        root_dict[part.tag] = [0]*root_dict[\"framecount\"]\n",
    "        \n",
    "        for frame in range(root_dict[\"framecount\"]):\n",
    "            data = part[frame][3].text\n",
    "            data_arr = np.array(list(map(float, data.split()))).reshape(4,4)\n",
    "            root_dict[part.tag][frame] = data_arr\n",
    "    \n",
    "    for part in root[4:]: # \"jaws\"\n",
    "        root_dict[part.tag] = list(map(float, part.text.split()))\n",
    "        \n",
    "    return root_dict"
   ]
  },
  {
   "cell_type": "code",
   "execution_count": 36,
   "metadata": {},
   "outputs": [],
   "source": [
    "# PSM1_dict = convert_xml_to_dict(xml_file =\"sim-PSM1-2016Feb05T175836.xml\")"
   ]
  },
  {
   "cell_type": "code",
   "execution_count": 49,
   "metadata": {},
   "outputs": [],
   "source": [
    "PSM2_dict = convert_xml_to_dict(xml_file =\"sim-PSM2-2016Feb05T175836.xml\")"
   ]
  },
  {
   "cell_type": "code",
   "execution_count": 50,
   "metadata": {},
   "outputs": [],
   "source": [
    "# PSM1_dict.keys()"
   ]
  },
  {
   "cell_type": "code",
   "execution_count": 51,
   "metadata": {},
   "outputs": [
    {
     "data": {
      "text/plain": [
       "dict_keys(['framecount', 'J4_poses', 'J5_poses', 'bHe_poses', 'jaws'])"
      ]
     },
     "execution_count": 51,
     "metadata": {},
     "output_type": "execute_result"
    }
   ],
   "source": [
    "PSM2_dict.keys()"
   ]
  },
  {
   "cell_type": "code",
   "execution_count": 52,
   "metadata": {},
   "outputs": [],
   "source": [
    "import transforms3d\n",
    "import matplotlib.pyplot as plt\n",
    "import numpy as np"
   ]
  },
  {
   "cell_type": "code",
   "execution_count": 53,
   "metadata": {},
   "outputs": [
    {
     "name": "stdout",
     "output_type": "stream",
     "text": [
      "[[ 0 -1  0  0]\n",
      " [ 0  0  1  0]\n",
      " [-1  0  0  0]\n",
      " [ 0  0  0  1]]\n"
     ]
    }
   ],
   "source": [
    "tool_tip = np.array([0 ,-1, 0, 0,0, 0, 1, 0,-1, 0, 0, 0, 0, 0, 0, 1]).reshape(4,4)\n",
    "print(tool_tip)"
   ]
  },
  {
   "cell_type": "code",
   "execution_count": 55,
   "metadata": {},
   "outputs": [],
   "source": [
    "PSM1_dict = PSM2_dict   #CHANGE THIS LATER, WRITING THIS BECAUSE FR HAS HARDCODED PSM1_dict IN THE BELOW CELL"
   ]
  },
  {
   "cell_type": "code",
   "execution_count": 56,
   "metadata": {},
   "outputs": [],
   "source": [
    "Joint_1_angle_values = [0]*PSM1_dict[\"framecount\"]\n",
    "Joint_2_angle_values = [0]*PSM1_dict[\"framecount\"]\n",
    "Joint_3_angle_values = [0]*PSM1_dict[\"framecount\"]\n",
    "Joint_4_angle_values = [0]*PSM1_dict[\"framecount\"]\n",
    "Joint_5_angle_values = [0]*PSM1_dict[\"framecount\"]\n",
    "Joint_6_angle_values = [0]*PSM1_dict[\"framecount\"]\n",
    "Joint_7_angle_values = PSM1_dict[\"jaws\"]\n",
    "\n",
    "for frame_index, T_b_4 in enumerate(PSM1_dict[\"J4_poses\"]):\n",
    "    #Get joint angles 1,2,4\n",
    "    T_b_4 = np.dot(T_b_4, np.linalg.inv(tool_tip))\n",
    "    \n",
    "    joint_angle_4 = np.arctan2(-T_b_4[1,1], T_b_4[1,0])\n",
    "    joint_angle_2 = np.arctan2(  T_b_4[1,0]/np.cos(joint_angle_4), -T_b_4[1,2])\n",
    "    joint_angle_1 = np.arctan2(T_b_4[2,2]/np.sin(joint_angle_2), T_b_4[0,2]/np.sin(joint_angle_2))\n",
    "    \n",
    "    Joint_1_angle_values[frame_index] = joint_angle_1 - np.pi/2.0\n",
    "    Joint_2_angle_values[frame_index] = joint_angle_2 + np.pi/2.0\n",
    "    Joint_4_angle_values[frame_index] = joint_angle_4\n",
    "    \n",
    "    #Get joint angle 3\n",
    "    p = T_b_4[:3, -1]\n",
    "    norm = np.linalg.norm(p)\n",
    "    joint_angle_3 = (norm  + 431.8 - 416.2)/1000 # in m  (lRCC + ltool From User_Guide_DVRK)\n",
    "    Joint_3_angle_values[frame_index] = joint_angle_3\n",
    "    \n",
    "    #Get joint angle 5\n",
    "    T_b_5 = PSM1_dict[\"J5_poses\"][frame_index]\n",
    "    T_b_5 = np.dot(T_b_5, np.linalg.inv(tool_tip))\n",
    "\n",
    "    T_4_5 = np.dot(np.linalg.inv(T_b_4), T_b_5)\n",
    "\n",
    "    Joint_5_angle_values[frame_index] = np.arctan2(-T_4_5[0,1], T_4_5[0,0]) + np.pi/2.0\n",
    "\n",
    "    #Get joint angle 6\n",
    "    T_b_6 = PSM1_dict[\"bHe_poses\"][frame_index]\n",
    "    T_b_6 = np.dot(T_b_6, np.linalg.inv(tool_tip))\n",
    "    \n",
    "    T_5_6 = np.dot(np.linalg.inv(T_b_5), T_b_6) \n",
    "    Joint_6_angle_values[frame_index] = np.arctan2(-T_5_6[0,1], T_5_6[0,0]) + np.pi/2.0"
   ]
  },
  {
   "cell_type": "code",
   "execution_count": 44,
   "metadata": {},
   "outputs": [],
   "source": [
    "# PSM1_joint_angles = np.vstack((Joint_1_angle_values, Joint_2_angle_values, Joint_3_angle_values, \n",
    "#                                Joint_4_angle_values, Joint_5_angle_values, Joint_6_angle_values,\n",
    "#                               Joint_7_angle_values))"
   ]
  },
  {
   "cell_type": "code",
   "execution_count": 57,
   "metadata": {},
   "outputs": [],
   "source": [
    "PSM2_joint_angles = np.vstack((Joint_1_angle_values, Joint_2_angle_values, Joint_3_angle_values, \n",
    "                               Joint_4_angle_values, Joint_5_angle_values, Joint_6_angle_values,\n",
    "                              Joint_7_angle_values))"
   ]
  },
  {
   "cell_type": "code",
   "execution_count": 45,
   "metadata": {},
   "outputs": [
    {
     "data": {
      "text/plain": [
       "(7, 373)"
      ]
     },
     "execution_count": 45,
     "metadata": {},
     "output_type": "execute_result"
    }
   ],
   "source": [
    "# PSM1_joint_angles.shape"
   ]
  },
  {
   "cell_type": "code",
   "execution_count": 46,
   "metadata": {},
   "outputs": [
    {
     "data": {
      "text/plain": [
       "array([[-3.26319113, -3.26319885, -3.26335331, ..., -3.25865789,\n",
       "        -3.25865789, -3.25865789],\n",
       "       [ 3.26739192,  3.26737648,  3.2673842 , ...,  3.30035255,\n",
       "         3.30035255,  3.30035255],\n",
       "       [ 0.12137163,  0.12136904,  0.12136515, ...,  0.1186909 ,\n",
       "         0.1186909 ,  0.1186909 ],\n",
       "       ...,\n",
       "       [ 0.41605447,  0.41605447,  0.41619111, ...,  0.47562798,\n",
       "         0.47562798,  0.47549135],\n",
       "       [-0.32277208, -0.32277208, -0.32255679, ..., -0.51355298,\n",
       "        -0.51355298, -0.51352324],\n",
       "       [-0.34596273, -0.34596273, -0.34596273, ..., -0.34579939,\n",
       "        -0.34579939, -0.34563604]])"
      ]
     },
     "execution_count": 46,
     "metadata": {},
     "output_type": "execute_result"
    }
   ],
   "source": [
    "# PSM1_joint_angles"
   ]
  },
  {
   "cell_type": "code",
   "execution_count": 47,
   "metadata": {},
   "outputs": [],
   "source": [
    "# np.save(\"PSM1_joint_angles.npy\", PSM1_joint_angles)"
   ]
  },
  {
   "cell_type": "code",
   "execution_count": 58,
   "metadata": {},
   "outputs": [],
   "source": [
    "np.save(\"PSM2_joint_angles.npy\", PSM2_joint_angles)"
   ]
  },
  {
   "cell_type": "code",
   "execution_count": 59,
   "metadata": {},
   "outputs": [
    {
     "data": {
      "text/plain": [
       "array([[-3.47286333, -3.47233818, -3.47233046, ..., -3.46127923,\n",
       "        -3.46127923, -3.46126378],\n",
       "       [ 3.37204268,  3.37218168,  3.37217396, ...,  3.41039377,\n",
       "         3.41039377,  3.41039377],\n",
       "       [ 0.14179598,  0.14179079,  0.1417869 , ...,  0.1388534 ,\n",
       "         0.1388534 ,  0.1388534 ],\n",
       "       ...,\n",
       "       [-0.09250658, -0.08991049, -0.09018376, ..., -0.21493289,\n",
       "        -0.21493289, -0.21479625],\n",
       "       [ 0.08179719,  0.0840909 ,  0.08210841, ..., -0.15341856,\n",
       "        -0.15341856, -0.15385669],\n",
       "       [-0.34824955, -0.34857625, -0.34906626, ..., -0.34890291,\n",
       "        -0.34890291, -0.34890291]])"
      ]
     },
     "execution_count": 59,
     "metadata": {},
     "output_type": "execute_result"
    }
   ],
   "source": [
    "PSM2_joint_angles"
   ]
  },
  {
   "cell_type": "code",
   "execution_count": 7,
   "metadata": {},
   "outputs": [
    {
     "data": {
      "image/png": "[encoded data removed]",
      "text/plain": [
       "<Figure size 432x288 with 1 Axes>"
      ]
     },
     "metadata": {
      "needs_background": "light"
     },
     "output_type": "display_data"
    }
   ],
   "source": [
    "# DON'T RUN THIS CELL!\n",
    "#PSM1 Joint angles\n",
    "\n",
    "# plt.plot(Joint_1_angle_values)\n",
    "# plt.plot(Joint_2_angle_values)\n",
    "# plt.plot(Joint_4_angle_values)\n",
    "# plt.plot(Joint_5_angle_values)\n",
    "# plt.plot(Joint_6_angle_values)\n",
    "\n",
    "\n",
    "# plt.legend([1,2,4,5], loc=\"best\")\n",
    "# plt.show()"
   ]
  },
  {
   "cell_type": "code",
   "execution_count": 27,
   "metadata": {},
   "outputs": [
    {
     "data": {
      "image/png": "[encoded data removed]",
      "text/plain": [
       "<Figure size 432x288 with 1 Axes>"
      ]
     },
     "metadata": {
      "needs_background": "light"
     },
     "output_type": "display_data"
    }
   ],
   "source": [
    "#PSM2 Angles\n",
    "\n",
    "plt.plot(Joint_1_angle_values)\n",
    "plt.plot(Joint_2_angle_values)\n",
    "plt.plot(Joint_4_angle_values)\n",
    "plt.plot(Joint_5_angle_values)\n",
    "plt.plot(Joint_6_angle_values)\n",
    "\n",
    "\n",
    "plt.legend([1,2,4,5], loc=\"best\")\n",
    "plt.show()"
   ]
  },
  {
   "cell_type": "code",
   "execution_count": 8,
   "metadata": {},
   "outputs": [
    {
     "data": {
      "image/png": "[encoded data removed]",
      "text/plain": [
       "<Figure size 432x288 with 1 Axes>"
      ]
     },
     "metadata": {
      "needs_background": "light"
     },
     "output_type": "display_data"
    }
   ],
   "source": [
    "#DON'T RUN THIS CELL!\n",
    "#PSM1\n",
    "# plt.plot(Joint_3_angle_values)\n",
    "# plt.legend([3], loc=\"best\")\n",
    "# plt.show()"
   ]
  },
  {
   "cell_type": "code",
   "execution_count": 28,
   "metadata": {},
   "outputs": [
    {
     "data": {
      "image/png": "[encoded data removed]",
      "text/plain": [
       "<Figure size 432x288 with 1 Axes>"
      ]
     },
     "metadata": {
      "needs_background": "light"
     },
     "output_type": "display_data"
    }
   ],
   "source": [
    "plt.plot(Joint_3_angle_values)\n",
    "plt.legend([3], loc=\"best\")\n",
    "plt.show()"
   ]
  },
  {
   "cell_type": "code",
   "execution_count": 61,
   "metadata": {},
   "outputs": [],
   "source": [
    "def getJointTransform(a, alpha, D, theta):\n",
    "    ca = np.cos(alpha)\n",
    "    sa = np.sin(alpha)\n",
    "    \n",
    "    ct = np.cos(theta)\n",
    "    st = np.sin(theta)\n",
    "    \n",
    "    T_x = np.array([[1, 0, 0, a],\n",
    "                    [0,ca,-sa,0],\n",
    "                    [0,sa, ca,0],\n",
    "                    [0, 0, 0, 1]]);\n",
    "    \n",
    "    T_z = np.array([[ct, -st, 0, 0],\n",
    "                    [st,  ct, 0, 0],\n",
    "                    [0 ,   0, 1, D],\n",
    "                    [0 ,   0, 0, 1]]);\n",
    "    return np.dot(T_x, T_z)"
   ]
  },
  {
   "cell_type": "code",
   "execution_count": 62,
   "metadata": {},
   "outputs": [
    {
     "name": "stdout",
     "output_type": "stream",
     "text": [
      "Forward Kin T_b_4: \n",
      "[[ 1.24747684e-02  9.37227093e-01 -3.48496421e-01 -4.37466459e+01]\n",
      " [ 9.57546604e-01  8.91884629e-02  2.74134855e-01  3.44120620e+01]\n",
      " [ 2.88008474e-01 -3.37121334e-01 -8.96326015e-01 -1.12515522e+02]\n",
      " [ 0.00000000e+00  0.00000000e+00  0.00000000e+00  1.00000000e+00]]\n",
      "XML T_b_4: \n",
      "[[ 1.24747684e-02  9.37227093e-01 -3.48496421e-01 -4.37466459e+01]\n",
      " [ 9.57546604e-01  8.91884629e-02  2.74134855e-01  3.44120620e+01]\n",
      " [ 2.88008474e-01 -3.37121334e-01 -8.96326015e-01 -1.12515522e+02]\n",
      " [ 0.00000000e+00  0.00000000e+00  0.00000000e+00  1.00000000e+00]]\n",
      "Forward Kin T_b_5: \n",
      "[[-3.37190687e-01 -8.89259022e-02  9.37227093e-01 -4.37466459e+01]\n",
      " [-1.47452516e-02  9.95905616e-01  8.91884629e-02  3.44120620e+01]\n",
      " [-9.41320890e-01  1.62538697e-02 -3.37121334e-01 -1.12515522e+02]\n",
      " [ 0.00000000e+00  0.00000000e+00  0.00000000e+00  1.00000000e+00]]\n",
      "XML T_b_5: \n",
      "[[-3.37190687e-01 -8.89259022e-02  9.37227093e-01 -4.37466459e+01]\n",
      " [-1.47452516e-02  9.95905616e-01  8.91884629e-02  3.44120620e+01]\n",
      " [-9.41320890e-01  1.62538697e-02 -3.37121334e-01 -1.12515522e+02]\n",
      " [ 0.00000000e+00  0.00000000e+00  0.00000000e+00  1.00000000e+00]]\n",
      "Forward Kin T_b_6: \n",
      "[[ 8.51015433e-01 -5.17556680e-01 -8.89259022e-02 -4.68150812e+01]\n",
      " [ 8.44475577e-02 -3.22585546e-02  9.95905616e-01  3.42778802e+01]\n",
      " [-5.18306225e-01 -8.55040624e-01  1.62538697e-02 -1.21081542e+02]\n",
      " [ 0.00000000e+00  0.00000000e+00  0.00000000e+00  1.00000000e+00]]\n",
      "XML T_b_6: \n",
      "[[ 8.51015433e-01 -5.17556680e-01 -8.89259022e-02 -4.68150812e+01]\n",
      " [ 8.44475577e-02 -3.22585546e-02  9.95905616e-01  3.42778802e+01]\n",
      " [-5.18306225e-01 -8.55040624e-01  1.62538697e-02 -1.21081542e+02]\n",
      " [ 0.00000000e+00  0.00000000e+00  0.00000000e+00  1.00000000e+00]]\n"
     ]
    }
   ],
   "source": [
    "index = 200\n",
    "\n",
    "j1 = Joint_1_angle_values[index] \n",
    "j2 = Joint_2_angle_values[index] \n",
    "j3 = Joint_3_angle_values[index]\n",
    "j4 = Joint_4_angle_values[index]\n",
    "j5 = Joint_5_angle_values[index]\n",
    "j6 = Joint_6_angle_values[index]\n",
    "\n",
    "\n",
    "T_0_1 = getJointTransform(0, np.pi/2, 0, j1 + np.pi/2.0)\n",
    "T_1_2 = getJointTransform(0,-np.pi/2, 0, j2 - np.pi/2.0)\n",
    "T_2_3 = getJointTransform(0, np.pi/2, j3 - 0.4318, 0)\n",
    "T_3_4 = getJointTransform(0, 0, 0.4162, j4)\n",
    "\n",
    "T_0_4 = np.dot(np.dot( np.dot(T_0_1, T_1_2), T_2_3), T_3_4)\n",
    "T_0_4[:3, 3] *= 1000\n",
    "\n",
    "print(\"Forward Kin T_b_4: \")\n",
    "print(T_0_4)\n",
    "print(\"XML T_b_4: \")\n",
    "print(np.dot(PSM1_dict[\"J4_poses\"][index], np.linalg.inv(tool_tip)))\n",
    "\n",
    "T_4_5 = getJointTransform(0, -np.pi/2, 0, j5 - np.pi/2.0)\n",
    "T_0_5 = np.dot(T_0_4, T_4_5)\n",
    "print(\"Forward Kin T_b_5: \")\n",
    "print(T_0_5)\n",
    "print(\"XML T_b_5: \")\n",
    "print(np.dot(PSM1_dict[\"J5_poses\"][index], np.linalg.inv(tool_tip)))\n",
    "\n",
    "T_5_6 = getJointTransform(0.0091*1000, -np.pi/2, 0, j6 - np.pi/2.0)\n",
    "T_0_6 = np.dot(T_0_5, T_5_6)\n",
    "print(\"Forward Kin T_b_6: \")\n",
    "print(T_0_6)\n",
    "print(\"XML T_b_6: \")\n",
    "print(np.dot(PSM1_dict[\"bHe_poses\"][index], np.linalg.inv(tool_tip)))\n"
   ]
  },
  {
   "cell_type": "code",
   "execution_count": 151,
   "metadata": {},
   "outputs": [
    {
     "name": "stdout",
     "output_type": "stream",
     "text": [
      "[[ 4.90207033e-02  9.92949256e-01 -1.07929351e-01 -1.13421323e+01]\n",
      " [ 9.93856073e-01 -3.77566524e-02  1.04041056e-01  1.09335173e+01]\n",
      " [ 9.92324386e-02 -1.12366407e-01 -9.88699506e-01 -1.03900936e+02]\n",
      " [ 0.00000000e+00  0.00000000e+00  0.00000000e+00  1.00000000e+00]]\n"
     ]
    }
   ],
   "source": [
    "print(np.dot(PSM1_dict[\"J4_poses\"][index], np.linalg.inv(tool_tip)))"
   ]
  },
  {
   "cell_type": "code",
   "execution_count": 54,
   "metadata": {},
   "outputs": [],
   "source": [
    "from sympy import *\n",
    "\n",
    "def getSimpyTransform(a, alpha, D, theta):\n",
    "    ca = cos(alpha)\n",
    "    sa = sin(alpha)\n",
    "    \n",
    "    ct = cos(theta)\n",
    "    st = sin(theta)\n",
    "    \n",
    "    T_x = Matrix(  [[1, 0, 0, a],\n",
    "                    [0,ca,-sa,0],\n",
    "                    [0,sa, ca,0],\n",
    "                    [0, 0, 0, 1]]);\n",
    "    \n",
    "    T_z = Matrix  ([[ct, -st, 0, 0],\n",
    "                    [st,  ct, 0, 0],\n",
    "                    [0 ,   0, 1, D],\n",
    "                    [0 ,   0, 0, 1]]);\n",
    "    return T_x*T_z"
   ]
  },
  {
   "cell_type": "code",
   "execution_count": 103,
   "metadata": {},
   "outputs": [],
   "source": [
    "q1, q2, q3, q4 = symbols('q1, q2, q3, q4')\n",
    "\n",
    "\n",
    "T_0_1 = getSimpyTransform(0, np.pi/2, 0, q1 )\n",
    "T_1_2 = getSimpyTransform(0,-np.pi/2, 0, q2)\n",
    "T_2_3 = getSimpyTransform(0, np.pi/2, q3, 0)\n",
    "T_3_4 = getSimpyTransform(0, 0, 0.4162, q4)\n",
    "\n",
    "T_0_4 = T_0_1*T_1_2*T_2_3*T_3_4"
   ]
  },
  {
   "cell_type": "code",
   "execution_count": 105,
   "metadata": {},
   "outputs": [
    {
     "name": "stdout",
     "output_type": "stream",
     "text": [
      "1.0*sin(q1)*sin(q2) - 6.12323399573677e-17*cos(q1)*cos(q2) + 6.12323399573677e-17*cos(q1) + 6.12323399573677e-17*cos(q2) + 2.29584502165847e-49\n"
     ]
    }
   ],
   "source": [
    "print(T_0_4[2,2])"
   ]
  },
  {
   "cell_type": "code",
   "execution_count": 53,
   "metadata": {},
   "outputs": [
    {
     "data": {
      "text/plain": [
       "[373, 373, 373, 373, 373, 373]"
      ]
     },
     "execution_count": 53,
     "metadata": {},
     "output_type": "execute_result"
    }
   ],
   "source": [
    "list(map(len, [Joint_1_angle_values,Joint_2_angle_values, Joint_3_angle_values, \n",
    "           Joint_4_angle_values, Joint_5_roll_yaw_pitch_angles, Joint_6_roll_yaw_pitch_angles]))"
   ]
  },
  {
   "cell_type": "code",
   "execution_count": 363,
   "metadata": {},
   "outputs": [],
   "source": [
    "import pickle\n",
    "with open(\"Joint_Angles_List.pkl\", \"wb\") as f:\n",
    "    list_of_6_joints = [Joint_1_angle_values,\n",
    "                        Joint_2_angle_values, \n",
    "                        Joint_3_angle_values, \n",
    "                        Joint_4_angle_values, \n",
    "                        Joint_5_roll_yaw_pitch_angles,\n",
    "                        Joint_6_roll_yaw_pitch_angles]\n",
    "    pickle.dump(list_of_6_joints, f)"
   ]
  },
  {
   "cell_type": "code",
   "execution_count": 364,
   "metadata": {},
   "outputs": [],
   "source": [
    "with open(\"Joint_Angles_List.pkl\", \"rb\") as f:\n",
    "    list_check = pickle.load(f)"
   ]
  },
  {
   "cell_type": "code",
   "execution_count": 367,
   "metadata": {},
   "outputs": [
    {
     "data": {
      "text/plain": [
       "[-3.0148675246262253,\n",
       " -3.014882963025442,\n",
       " -3.014872816757055,\n",
       " -3.0148544138567175,\n",
       " -3.0148544138567175,\n",
       " -3.0148545325242306,\n",
       " -3.014854651184044,\n",
       " -3.014854769836159,\n",
       " -3.0148657489928032,\n",
       " -3.0150598673810336,\n",
       " -3.0161800210000798,\n",
       " -3.0192797957432362,\n",
       " -3.02410913448039,\n",
       " -3.0301379631042002,\n",
       " -3.034795702377429,\n",
       " -3.037642669094328,\n",
       " -3.042233312104333,\n",
       " -3.0485954438196337,\n",
       " -3.0521810145834416,\n",
       " -3.0529554755494015,\n",
       " -3.0535452966534247,\n",
       " -3.053614763873482,\n",
       " -3.054056422370952,\n",
       " -3.0553548888149464,\n",
       " -3.0558082937859656,\n",
       " -3.0562944007151107,\n",
       " -3.0565207283275617,\n",
       " -3.0565510298320717,\n",
       " -3.0563776571287686,\n",
       " -3.0564838239530183,\n",
       " -3.0579309874856913,\n",
       " -3.060058746920432,\n",
       " -3.0618664377464886,\n",
       " -3.066866817180352,\n",
       " -3.0697280938660154,\n",
       " -3.07387667388711,\n",
       " -3.0747648053670633,\n",
       " -3.0749215528545144,\n",
       " -3.074811114282127,\n",
       " -3.074803741293833,\n",
       " -3.0765146858121333,\n",
       " -3.082651844485608,\n",
       " -3.0895776348772506,\n",
       " -3.091415331253113,\n",
       " -3.093800241248443,\n",
       " -3.0944867517263415,\n",
       " -3.0948644158045306,\n",
       " -3.0949481759821538,\n",
       " -3.094150739339257,\n",
       " -3.091678773934212,\n",
       " -3.0852981730226525,\n",
       " -3.081343472186215,\n",
       " -3.0781615152274684,\n",
       " -3.0742789799207397,\n",
       " -3.0719941635092622,\n",
       " -3.072003594019759,\n",
       " -3.0720632330114155,\n",
       " -3.0720626444294648,\n",
       " -3.0721797651295826,\n",
       " -3.072499162962243,\n",
       " -3.073360386306209,\n",
       " -3.075316249060429,\n",
       " -3.079215367479308,\n",
       " -3.08177048847248,\n",
       " -3.0826666305711883,\n",
       " -3.0840254805421647,\n",
       " -3.0846521067602697,\n",
       " -3.0858881995422456,\n",
       " -3.0860447479484203,\n",
       " -3.082193777119975,\n",
       " -3.071812084274732,\n",
       " -3.0638653818305968,\n",
       " -3.056254502275977,\n",
       " -3.051779573627178,\n",
       " -3.0527127499687388,\n",
       " -3.0609734325417373,\n",
       " -3.0650419035067227,\n",
       " -3.0680175435514148,\n",
       " -3.068664874395073,\n",
       " -3.068054923848285,\n",
       " -3.063443511214827,\n",
       " -3.0543724541565713,\n",
       " -3.043172455241188,\n",
       " -3.032886002424152,\n",
       " -3.023852544094943,\n",
       " -3.0214117944995023,\n",
       " -3.022179790304378,\n",
       " -3.0245919485299817,\n",
       " -3.0252489103428846,\n",
       " -3.025341793840652,\n",
       " -3.0254344877917707,\n",
       " -3.0275505328424384,\n",
       " -3.0324286020231233,\n",
       " -3.034959284773309,\n",
       " -3.035052972618567,\n",
       " -3.0351410681949105,\n",
       " -3.0354978025639876,\n",
       " -3.0357377167536232,\n",
       " -3.035792444582432,\n",
       " -3.0359249363679113,\n",
       " -3.0367483020687827,\n",
       " -3.0401899383533744,\n",
       " -3.041054655260769,\n",
       " -3.0442038534182134,\n",
       " -3.045810805302241,\n",
       " -3.0469373431654314,\n",
       " -3.0499663765603637,\n",
       " -3.0505927153261556,\n",
       " -3.053128214059813,\n",
       " -3.055154725195819,\n",
       " -3.056280170805197,\n",
       " -3.05836768743994,\n",
       " -3.061080800656009,\n",
       " -3.0636964217582805,\n",
       " -3.065875955921019,\n",
       " -3.0667232598726266,\n",
       " -3.0688907001944488,\n",
       " -3.0715743690918034,\n",
       " -3.071897134681744,\n",
       " -3.0718498962990224,\n",
       " -3.0703043072954053,\n",
       " -3.0691375648894064,\n",
       " -3.0687407784100165,\n",
       " -3.0676014249804457,\n",
       " -3.065406316647495,\n",
       " -3.065433063642984,\n",
       " -3.0664356295873074,\n",
       " -3.0676039298659226,\n",
       " -3.0713815475968214,\n",
       " -3.0765583572539117,\n",
       " -3.079972255105473,\n",
       " -3.083900703897525,\n",
       " -3.087635842076416,\n",
       " -3.088524498993677,\n",
       " -3.088499331116583,\n",
       " -3.088818987141959,\n",
       " -3.0898777883236765,\n",
       " -3.0918784903814838,\n",
       " -3.0948913712911876,\n",
       " -3.0983115500291603,\n",
       " -3.0982914452553096,\n",
       " -3.098144777147599,\n",
       " -3.0977481845329655,\n",
       " -3.0979332042195376,\n",
       " -3.099124073848065,\n",
       " -3.10220109635402,\n",
       " -3.1089691176580123,\n",
       " -3.1100911997225995,\n",
       " -3.1107286892183637,\n",
       " -3.110782854721719,\n",
       " -3.1112838298820864,\n",
       " -3.1128416123049725,\n",
       " -3.116429354982471,\n",
       " -3.121072081261203,\n",
       " -3.127065471893526,\n",
       " -3.1325761969092834,\n",
       " -3.1343161502547354,\n",
       " -3.1352109968388557,\n",
       " -3.137744596942962,\n",
       " -3.1398284249743535,\n",
       " -3.1395245809195815,\n",
       " -3.1379003753357906,\n",
       " -3.136470875554171,\n",
       " -3.1350201928718375,\n",
       " -3.134155491622821,\n",
       " -3.133028392282082,\n",
       " -3.1325195262465604,\n",
       " -3.1323244512201596,\n",
       " -3.131902412273906,\n",
       " -3.133980301293902,\n",
       " -3.1370548238772353,\n",
       " -3.1372139311257867,\n",
       " -3.1367537211411647,\n",
       " -3.1361950024054654,\n",
       " -3.132802467991012,\n",
       " -3.1264504772398003,\n",
       " -3.121112222390432,\n",
       " -3.117396544423093,\n",
       " -3.1076266887533053,\n",
       " -3.094360700781049,\n",
       " -3.0799702826300326,\n",
       " -3.072348714170534,\n",
       " -3.061384214727807,\n",
       " -3.0466307302426148,\n",
       " -3.0368249130336444,\n",
       " -3.027170329821754,\n",
       " -3.0199693053276735,\n",
       " -3.015883070484802,\n",
       " -3.0132922323720064,\n",
       " -3.014070198408737,\n",
       " -3.016330474612697,\n",
       " -3.020083722977462,\n",
       " -3.022243597133805,\n",
       " -3.0235509966382685,\n",
       " -3.0280170629864998,\n",
       " -3.031377237423715,\n",
       " -3.0285846289904725,\n",
       " -3.0237185658259422,\n",
       " -3.0197824417474,\n",
       " -3.0139119689686877,\n",
       " -3.010671906592001,\n",
       " -3.0094549339047276,\n",
       " -3.0084060588683132,\n",
       " -3.0065237096631767,\n",
       " -3.0030891657871077,\n",
       " -3.000926285144398,\n",
       " -3.000967821422632,\n",
       " -3.0023901645924775,\n",
       " -3.005164134798608,\n",
       " -3.009967733946583,\n",
       " -3.024359454490787,\n",
       " -3.0318723049415315,\n",
       " -3.0379059492747857,\n",
       " -3.0396313100990553,\n",
       " -3.0389409355583443,\n",
       " -3.0354632415877667,\n",
       " -3.030317550062973,\n",
       " -3.0211638806650227,\n",
       " -3.0128460333848097,\n",
       " -3.0072645908543123,\n",
       " -2.9949258620064643,\n",
       " -2.9830978759474296,\n",
       " -2.975087980345212,\n",
       " -2.9679714013300673,\n",
       " -2.958151691025218,\n",
       " -2.9470305935341714,\n",
       " -2.9292730452332174,\n",
       " -2.9173167037990395,\n",
       " -2.9049475543393872,\n",
       " -2.8937499536541993,\n",
       " -2.8811040439991173,\n",
       " -2.8700793163677067,\n",
       " -2.863718132413865,\n",
       " -2.858070212485719,\n",
       " -2.853202244343172,\n",
       " -2.847847495585003,\n",
       " -2.8416514775555157,\n",
       " -2.8386396168172916,\n",
       " -2.8374431821036805,\n",
       " -2.839266480747428,\n",
       " -2.84463794949166,\n",
       " -2.8595664190328454,\n",
       " -2.8771909169629573,\n",
       " -2.8898555172076854,\n",
       " -2.9003323421331513,\n",
       " -2.907952596320918,\n",
       " -2.920877611415995,\n",
       " -2.930469087183676,\n",
       " -2.934155617956473,\n",
       " -2.935697549965925,\n",
       " -2.9358156187713678,\n",
       " -2.934164977427024,\n",
       " -2.9297718415690324,\n",
       " -2.9396129444519885,\n",
       " -2.9458883810288747,\n",
       " -2.9507173122967347,\n",
       " -2.9527824878536886,\n",
       " -2.9531076565229397,\n",
       " -2.95304463223017,\n",
       " -2.949980126826369,\n",
       " -2.938766615800785,\n",
       " -2.926758752927997,\n",
       " -2.9085555314867255,\n",
       " -2.8953833876292885,\n",
       " -2.8806753203354023,\n",
       " -2.8766970107086918,\n",
       " -2.8815602325964056,\n",
       " -2.88880037808427,\n",
       " -2.900704318688144,\n",
       " -2.912904300337642,\n",
       " -2.926905831222864,\n",
       " -2.9348399840087933,\n",
       " -2.942890817878634,\n",
       " -2.9451669273819627,\n",
       " -2.942642318404053,\n",
       " -2.9423422654215896,\n",
       " -2.9422100193440275,\n",
       " -2.9422578142554396,\n",
       " -2.942321478353762,\n",
       " -2.941748277831758,\n",
       " -2.938669221646471,\n",
       " -2.9373565774552475,\n",
       " -2.937141570241287,\n",
       " -2.937543894718358,\n",
       " -2.939195572454991,\n",
       " -2.942200046200365,\n",
       " -2.9417705327639587,\n",
       " -2.9404836248743607,\n",
       " -2.938364540957763,\n",
       " -2.935698914263458,\n",
       " -2.934747515413912,\n",
       " -2.9336926400698125,\n",
       " -2.933502955056673,\n",
       " -2.932364473882988,\n",
       " -2.9308350175749016,\n",
       " -2.9306977572457864,\n",
       " -2.929390427125187,\n",
       " -2.9252585186042324,\n",
       " -2.9236581009620815,\n",
       " -2.9230003951798906,\n",
       " -2.9204568629619225,\n",
       " -2.9193810204306425,\n",
       " -2.918824217197954,\n",
       " -2.917897141469485,\n",
       " -2.9173425685438428,\n",
       " -2.9155614393902094,\n",
       " -2.9132329057994246,\n",
       " -2.9118906457029534,\n",
       " -2.9094686551409943,\n",
       " -2.907442944362176,\n",
       " -2.9061904065678896,\n",
       " -2.9057577489032904,\n",
       " -2.903959634910302,\n",
       " -2.900945376097307,\n",
       " -2.9001904658258093,\n",
       " -2.897053512122713,\n",
       " -2.893954589256091,\n",
       " -2.890450737850979,\n",
       " -2.890198044649051,\n",
       " -2.8892165041987314,\n",
       " -2.889577670775166,\n",
       " -2.8916278041078245,\n",
       " -2.896154300924705,\n",
       " -2.907455776143743,\n",
       " -2.9245817493792776,\n",
       " -2.9356409569733763,\n",
       " -2.9461928197965244,\n",
       " -2.9543140209929466,\n",
       " -2.9591913633925238,\n",
       " -2.9633643616249836,\n",
       " -2.968840028088551,\n",
       " -2.9707112893591505,\n",
       " -2.972720837357017,\n",
       " -2.9747075942122803,\n",
       " -2.978622930480141,\n",
       " -2.9795262889938567,\n",
       " -2.9793477825507466,\n",
       " -2.978850365257762,\n",
       " -2.9790782839806007,\n",
       " -2.9814078313928354,\n",
       " -2.9835657304620837,\n",
       " -2.9844115519605725,\n",
       " -2.98552685006497,\n",
       " -2.9856454750346764,\n",
       " -2.9856336734559514,\n",
       " -2.984449305700143,\n",
       " -2.982919120219151,\n",
       " -2.9823193890985658,\n",
       " -2.98042207478544,\n",
       " -2.980227719395147,\n",
       " -2.98010749895152,\n",
       " -2.980125990774925,\n",
       " -2.980404107154927,\n",
       " -2.9807532518481517,\n",
       " -2.980987900591589,\n",
       " -2.981430241415914,\n",
       " -2.981673068791181,\n",
       " -2.9817112214127537,\n",
       " -2.981702449015941,\n",
       " -2.9817182810705476,\n",
       " -2.9817259115992885,\n",
       " -2.9817259115992885,\n",
       " -2.9817416008685944,\n",
       " -2.9817416008685944,\n",
       " -2.9817414581449837,\n",
       " -2.9817338276023198,\n",
       " -2.9817493741351284,\n",
       " -2.9817416008685944,\n",
       " -2.9817416008685944,\n",
       " -2.9817416008685944,\n",
       " -2.9817571474019213,\n",
       " -2.9817571474019213,\n",
       " -2.9817571474019213]"
      ]
     },
     "execution_count": 367,
     "metadata": {},
     "output_type": "execute_result"
    }
   ],
   "source": [
    "Joint_1_angle_values"
   ]
  }
 ],
 "metadata": {
  "kernelspec": {
   "display_name": "Python 3",
   "language": "python",
   "name": "python3"
  },
  "language_info": {
   "codemirror_mode": {
    "name": "ipython",
    "version": 3
   },
   "file_extension": ".py",
   "mimetype": "text/x-python",
   "name": "python",
   "nbconvert_exporter": "python",
   "pygments_lexer": "ipython3",
   "version": "3.6.10"
  }
 },
 "nbformat": 4,
 "nbformat_minor": 4
}
